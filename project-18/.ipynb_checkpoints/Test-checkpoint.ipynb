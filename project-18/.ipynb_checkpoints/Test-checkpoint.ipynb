{
 "cells": [
  {
   "cell_type": "code",
   "execution_count": null,
   "id": "44916df7",
   "metadata": {},
   "outputs": [],
   "source": [
    "import numpy as np\n",
    "import cv2\n",
    "import os\n",
    "from sklearn.model_selection import train_test_split\n",
    "from sklearn.svm import SVC\n",
    "from sklearn.metrics import accuracy_score\n",
    "import matplotlib.pyplot as plt"
   ]
  },
  {
   "cell_type": "code",
   "execution_count": 23,
   "id": "0bfca101",
   "metadata": {},
   "outputs": [],
   "source": [
    "# تحميل الصور وتحويلها إلى بيانات عددية\n",
    "def load_images(folder, label, img_size=(150, 150)):\n",
    "    images = []\n",
    "    labels = []\n",
    "    for file in os.listdir(folder):\n",
    "        img_path = os.path.join(folder, file)\n",
    "        img = cv2.imread(img_path)\n",
    "        if img is not None:\n",
    "            img = cv2.resize(img, img_size)\n",
    "            images.append(img.flatten())  # تحويل الصورة إلى متجه\n",
    "            labels.append(label)\n",
    "    return np.array(images), np.array(labels)"
   ]
  },
  {
   "cell_type": "code",
   "execution_count": 24,
   "id": "bfdfff8c",
   "metadata": {},
   "outputs": [],
   "source": [
    "# مسارات بيانات القطط والكلاب\n",
    "cats_folder = \"training_set/cats\"\n",
    "dogs_folder = \"training_set/dogs\""
   ]
  },
  {
   "cell_type": "code",
   "execution_count": 25,
   "id": "00706ec7",
   "metadata": {},
   "outputs": [],
   "source": [
    "# تحميل بيانات القطط والكلاب\n",
    "cats_data, cats_labels = load_images(cats_folder, label=0)  # 0 = قطة\n",
    "dogs_data, dogs_labels = load_images(dogs_folder, label=1)  # 1 = كلب"
   ]
  },
  {
   "cell_type": "code",
   "execution_count": 26,
   "id": "6347fa2c",
   "metadata": {},
   "outputs": [],
   "source": [
    "# دمج البيانات\n",
    "x = np.vstack((cats_data, dogs_data))  # دمج بيانات الصور\n",
    "y = np.hstack((cats_labels, dogs_labels))  # دمج التسميات"
   ]
  },
  {
   "cell_type": "code",
   "execution_count": null,
   "id": "ba5491f3-c2a1-41c4-a9dd-4f92cb629041",
   "metadata": {},
   "outputs": [],
   "source": [
    "# تقسيم البيانات\n",
    "x_train, x_test, y_train, y_test = train_test_split(x, y, train_size=0.8, random_state=1234)\n",
    "\n",
    "# تدريب نموذج SVM\n",
    "svm_model = SVC(kernel='rbf', gamma='scale')  # استخدام RBF kernel\n",
    "svm_model.fit(x_train, y_train)"
   ]
  },
  {
   "cell_type": "code",
   "execution_count": null,
   "id": "6f4e1034-3619-40dd-872b-edebcab180fd",
   "metadata": {},
   "outputs": [],
   "source": [
    "# اختبار النموذج\n",
    "y_pred = svm_model.predict(x_test)\n",
    "accuracy = accuracy_score(y_test, y_pred)\n",
    "\n",
    "print(f\"Accuracy: {accuracy * 100:.2f}%\")"
   ]
  },
  {
   "cell_type": "code",
   "execution_count": null,
   "id": "96226c5d-046e-4eda-b6e5-a60526119ef6",
   "metadata": {},
   "outputs": [],
   "source": [
    "# عرض بعض النتائج\n",
    "for i in range(5):\n",
    "    img = x_test[i].reshape(120, 120, 3).astype(np.uint8)\n",
    "    plt.imshow(cv2.cvtColor(img, cv2.COLOR_BGR2RGB))\n",
    "    plt.title(f\"True: {'Cat' if y_test[i] == 0 else 'Dog'}, Pred: {'Cat' if y_pred[i] == 0 else 'Dog'}\")\n",
    "    plt.axis('off')\n",
    "    plt.show()"
   ]
  },
  {
   "cell_type": "code",
   "execution_count": null,
   "id": "84c17170-5b29-4530-b7d3-1148d1eb4c4a",
   "metadata": {},
   "outputs": [],
   "source": []
  },
  {
   "cell_type": "code",
   "execution_count": null,
   "id": "583f4bd5-2ee6-4549-8b15-9a7dc385ed77",
   "metadata": {},
   "outputs": [],
   "source": []
  },
  {
   "cell_type": "code",
   "execution_count": null,
   "id": "9fbe932c",
   "metadata": {},
   "outputs": [],
   "source": []
  }
 ],
 "metadata": {
  "kernelspec": {
   "display_name": "Python 3 (ipykernel)",
   "language": "python",
   "name": "python3"
  },
  "language_info": {
   "codemirror_mode": {
    "name": "ipython",
    "version": 3
   },
   "file_extension": ".py",
   "mimetype": "text/x-python",
   "name": "python",
   "nbconvert_exporter": "python",
   "pygments_lexer": "ipython3",
   "version": "3.12.4"
  }
 },
 "nbformat": 4,
 "nbformat_minor": 5
}
