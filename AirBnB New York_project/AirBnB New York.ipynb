{
 "cells": [
  {
   "cell_type": "markdown",
   "id": "e3972cc8",
   "metadata": {},
   "source": [
    "## **Split()**"
   ]
  },
  {
   "cell_type": "code",
   "execution_count": 6,
   "id": "1fea2793",
   "metadata": {},
   "outputs": [
    {
     "name": "stdout",
     "output_type": "stream",
     "text": [
      "['simo', 'jamyl', 'reda', 'zakaria']\n",
      "['gmail.com', 'gmail.com', 'gmail.com', 'gmail.com']\n"
     ]
    }
   ],
   "source": [
    "email = ['simo@gmail.com','jamyl@gmail.com','reda@gmail.com','zakaria@gmail.com']\n",
    "first = []\n",
    "last =[]\n",
    "\n",
    "for i in email:\n",
    "    first.append(i.split('@')[0])\n",
    "    last.append(i.split('@')[1])\n",
    "print(first)\n",
    "print(last)"
   ]
  },
  {
   "cell_type": "code",
   "execution_count": 7,
   "id": "1952d66c",
   "metadata": {},
   "outputs": [
    {
     "data": {
      "text/plain": [
       "'simo@gmail.com'"
      ]
     },
     "execution_count": 7,
     "metadata": {},
     "output_type": "execute_result"
    }
   ],
   "source": [
    "email1 = f'{first[0]}@{last[0]}'\n",
    "email1"
   ]
  },
  {
   "cell_type": "code",
   "execution_count": 29,
   "id": "cc1d118b",
   "metadata": {},
   "outputs": [
    {
     "name": "stdout",
     "output_type": "stream",
     "text": [
      "['simo', 'jamyl', 'reda', 'zakaria']\n",
      "['gmail.com.', 'gmail.gov', 'gmail.org', 'gmail.fr']\n",
      "['com', 'gov', 'org', 'fr']\n"
     ]
    }
   ],
   "source": [
    "Email = ['simo@gmail.com.','jamyl@gmail.gov','reda@gmail.org','zakaria@gmail.fr']\n",
    "first = []\n",
    "last =[]\n",
    "extenction = []\n",
    "\n",
    "for i in Email:\n",
    "    first.append(i.split('@')[0])\n",
    "    last.append(i.split('@')[1])\n",
    "    extenction.append(i.split('.')[1])\n",
    "\n",
    "print(first)\n",
    "print(last)\n",
    "print(extenction)"
   ]
  },
  {
   "cell_type": "code",
   "execution_count": null,
   "id": "8554093d",
   "metadata": {},
   "outputs": [],
   "source": []
  },
  {
   "cell_type": "code",
   "execution_count": null,
   "id": "89d751a2",
   "metadata": {},
   "outputs": [],
   "source": []
  }
 ],
 "metadata": {
  "kernelspec": {
   "display_name": "Python 3",
   "language": "python",
   "name": "python3"
  },
  "language_info": {
   "codemirror_mode": {
    "name": "ipython",
    "version": 3
   },
   "file_extension": ".py",
   "mimetype": "text/x-python",
   "name": "python",
   "nbconvert_exporter": "python",
   "pygments_lexer": "ipython3",
   "version": "3.11.9"
  }
 },
 "nbformat": 4,
 "nbformat_minor": 5
}
